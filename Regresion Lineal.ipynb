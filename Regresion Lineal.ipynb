{
 "cells": [
  {
   "cell_type": "code",
   "execution_count": 116,
   "id": "58c7e927-1697-4103-902f-1a26a79e97de",
   "metadata": {},
   "outputs": [],
   "source": [
    "import pandas as pd\n",
    "import numpy as np\n",
    "import seaborn as sns\n",
    "import matplotlib.pyplot as plt\n",
    "from sklearn.linear_model import LinearRegression\n",
    "from sklearn.model_selection import train_test_split\n",
    "from sklearn.metrics import mean_squared_error, r2_score\n",
    "from sklearn.preprocessing import StandardScaler\n"
   ]
  },
  {
   "cell_type": "code",
   "execution_count": 6,
   "id": "12ad1f6d-19e2-42b4-bf07-59b70d829296",
   "metadata": {},
   "outputs": [],
   "source": [
    "Datos = pd.read_csv('./car data.csv')"
   ]
  },
  {
   "cell_type": "code",
   "execution_count": 12,
   "id": "5220ff23-2e84-4ea8-ba6c-23cab9735236",
   "metadata": {},
   "outputs": [
    {
     "name": "stdout",
     "output_type": "stream",
     "text": [
      "Primeras filas del dataset:\n",
      "         Car_Name  Year  Selling_Price  Present_Price  Kms_Driven Fuel_Type  \\\n",
      "0            ritz  2014           3.35           5.59       27000    Petrol   \n",
      "1             sx4  2013           4.75           9.54       43000    Diesel   \n",
      "2            ciaz  2017           7.25           9.85        6900    Petrol   \n",
      "3         wagon r  2011           2.85           4.15        5200    Petrol   \n",
      "4           swift  2014           4.60           6.87       42450    Diesel   \n",
      "5   vitara brezza  2018           9.25           9.83        2071    Diesel   \n",
      "6            ciaz  2015           6.75           8.12       18796    Petrol   \n",
      "7         s cross  2015           6.50           8.61       33429    Diesel   \n",
      "8            ciaz  2016           8.75           8.89       20273    Diesel   \n",
      "9            ciaz  2015           7.45           8.92       42367    Diesel   \n",
      "10       alto 800  2017           2.85           3.60        2135    Petrol   \n",
      "11           ciaz  2015           6.85          10.38       51000    Diesel   \n",
      "12           ciaz  2015           7.50           9.94       15000    Petrol   \n",
      "13         ertiga  2015           6.10           7.71       26000    Petrol   \n",
      "14          dzire  2009           2.25           7.21       77427    Petrol   \n",
      "15         ertiga  2016           7.75          10.79       43000    Diesel   \n",
      "16         ertiga  2015           7.25          10.79       41678    Diesel   \n",
      "17         ertiga  2016           7.75          10.79       43000    Diesel   \n",
      "18        wagon r  2015           3.25           5.09       35500       CNG   \n",
      "19            sx4  2010           2.65           7.98       41442    Petrol   \n",
      "\n",
      "   Seller_Type Transmission  Owner  \n",
      "0       Dealer       Manual      0  \n",
      "1       Dealer       Manual      0  \n",
      "2       Dealer       Manual      0  \n",
      "3       Dealer       Manual      0  \n",
      "4       Dealer       Manual      0  \n",
      "5       Dealer       Manual      0  \n",
      "6       Dealer       Manual      0  \n",
      "7       Dealer       Manual      0  \n",
      "8       Dealer       Manual      0  \n",
      "9       Dealer       Manual      0  \n",
      "10      Dealer       Manual      0  \n",
      "11      Dealer       Manual      0  \n",
      "12      Dealer    Automatic      0  \n",
      "13      Dealer       Manual      0  \n",
      "14      Dealer       Manual      0  \n",
      "15      Dealer       Manual      0  \n",
      "16      Dealer       Manual      0  \n",
      "17      Dealer       Manual      0  \n",
      "18      Dealer       Manual      0  \n",
      "19      Dealer       Manual      0  \n"
     ]
    }
   ],
   "source": [
    "print(\"Primeras filas del dataset:\")\n",
    "print(Datos.head(20))\n"
   ]
  },
  {
   "cell_type": "code",
   "execution_count": 16,
   "id": "34cb99ca-632a-4b65-845f-038019d33be7",
   "metadata": {},
   "outputs": [
    {
     "name": "stdout",
     "output_type": "stream",
     "text": [
      "\n",
      "Información del dataset:\n",
      "<class 'pandas.core.frame.DataFrame'>\n",
      "RangeIndex: 301 entries, 0 to 300\n",
      "Data columns (total 9 columns):\n",
      " #   Column         Non-Null Count  Dtype  \n",
      "---  ------         --------------  -----  \n",
      " 0   Car_Name       301 non-null    object \n",
      " 1   Year           301 non-null    int64  \n",
      " 2   Selling_Price  301 non-null    float64\n",
      " 3   Present_Price  301 non-null    float64\n",
      " 4   Kms_Driven     301 non-null    int64  \n",
      " 5   Fuel_Type      301 non-null    object \n",
      " 6   Seller_Type    301 non-null    object \n",
      " 7   Transmission   301 non-null    object \n",
      " 8   Owner          301 non-null    int64  \n",
      "dtypes: float64(2), int64(3), object(4)\n",
      "memory usage: 21.3+ KB\n",
      "None\n"
     ]
    }
   ],
   "source": [
    "print(\"\\nInformación del dataset:\")\n",
    "print(Datos.info())"
   ]
  },
  {
   "cell_type": "code",
   "execution_count": 18,
   "id": "d53d9773-6b88-46f9-856d-a5c961eee44e",
   "metadata": {},
   "outputs": [
    {
     "name": "stdout",
     "output_type": "stream",
     "text": [
      "\n",
      "Estadísticas descriptivas:\n",
      "              Year  Selling_Price  Present_Price     Kms_Driven       Owner\n",
      "count   301.000000     301.000000     301.000000     301.000000  301.000000\n",
      "mean   2013.627907       4.661296       7.628472   36947.205980    0.043189\n",
      "std       2.891554       5.082812       8.644115   38886.883882    0.247915\n",
      "min    2003.000000       0.100000       0.320000     500.000000    0.000000\n",
      "25%    2012.000000       0.900000       1.200000   15000.000000    0.000000\n",
      "50%    2014.000000       3.600000       6.400000   32000.000000    0.000000\n",
      "75%    2016.000000       6.000000       9.900000   48767.000000    0.000000\n",
      "max    2018.000000      35.000000      92.600000  500000.000000    3.000000\n"
     ]
    }
   ],
   "source": [
    "print(\"\\nEstadísticas descriptivas:\")\n",
    "print(Datos.describe())"
   ]
  },
  {
   "cell_type": "code",
   "execution_count": 126,
   "id": "1ae9e985-6186-4dd1-92fd-f4044c9a51ae",
   "metadata": {},
   "outputs": [
    {
     "name": "stdout",
     "output_type": "stream",
     "text": [
      "Intercepto (β0): -831.1789245913271\n",
      "Coeficiente (Tamaño, β1): [0.41509169]\n"
     ]
    },
    {
     "data": {
      "image/png": "[encoded data removed]",
      "text/plain": [
       "<Figure size 640x480 with 1 Axes>"
      ]
     },
     "metadata": {},
     "output_type": "display_data"
    }
   ],
   "source": [
    "Datos = pd.DataFrame(Datos)\n",
    "\n",
    "# Variables independientes (Tamaño y Habitaciones) y dependiente (Precio)\n",
    "X = Datos[['Year']]\n",
    "y = Datos['Selling_Price']\n",
    "\n",
    "# Crear un modelo de regresión lineal\n",
    "modelo = LinearRegression()\n",
    "\n",
    "# Ajustar el modelo a los datos\n",
    "modelo.fit(X, y)\n",
    "\n",
    "# Coeficientes de la regresión\n",
    "beta_0 = modelo.intercept_  # Intercepto\n",
    "beta_1 = modelo.coef_  # Pendientes (Tamaño y Habitaciones)\n",
    "\n",
    "print(f\"Intercepto (β0): {beta_0}\")\n",
    "print(f\"Coeficiente (Tamaño, β1): {beta_1}\")\n",
    "plt.scatter(Datos['Year'], y, color='blue', label='Datos Reales')\n",
    "plt.plot(Datos['Year'], modelo.predict(X), color='red', label='Línea de Regresión')\n",
    "plt.title('Regresión Lineal: Selling_Price vs Year')\n",
    "plt.xlabel('Year')\n",
    "plt.ylabel('Selling_Price')\n",
    "plt.legend()\n",
    "plt.show()\n"
   ]
  },
  {
   "cell_type": "code",
   "execution_count": 88,
   "id": "fd70ee20-5814-4c6f-a5cb-9722f23f74ae",
   "metadata": {},
   "outputs": [
    {
     "name": "stdout",
     "output_type": "stream",
     "text": [
      "Car_Name         0\n",
      "Year             0\n",
      "Selling_Price    0\n",
      "Present_Price    0\n",
      "Kms_Driven       0\n",
      "Fuel_Type        0\n",
      "Seller_Type      0\n",
      "Transmission     0\n",
      "Owner            0\n",
      "dtype: int64\n"
     ]
    }
   ],
   "source": [
    "print(Datos.isna().sum())"
   ]
  },
  {
   "cell_type": "code",
   "execution_count": 90,
   "id": "252d5866-9c5e-4270-8c75-837182cf3d9d",
   "metadata": {},
   "outputs": [
    {
     "data": {
      "text/plain": [
       "Car_Name         301\n",
       "Year             301\n",
       "Selling_Price    301\n",
       "Present_Price    301\n",
       "Kms_Driven       301\n",
       "Fuel_Type        301\n",
       "Seller_Type      301\n",
       "Transmission     301\n",
       "Owner            301\n",
       "dtype: int64"
      ]
     },
     "execution_count": 90,
     "metadata": {},
     "output_type": "execute_result"
    }
   ],
   "source": [
    "Datos = Datos.dropna()    # Dropping the missing values.\n",
    "Datos.count()"
   ]
  },
  {
   "cell_type": "code",
   "execution_count": 92,
   "id": "646a3512-3474-4145-ad81-695e7dd1f381",
   "metadata": {},
   "outputs": [
    {
     "name": "stdout",
     "output_type": "stream",
     "text": [
      "Car_Name         0\n",
      "Year             0\n",
      "Selling_Price    0\n",
      "Present_Price    0\n",
      "Kms_Driven       0\n",
      "Fuel_Type        0\n",
      "Seller_Type      0\n",
      "Transmission     0\n",
      "Owner            0\n",
      "dtype: int64\n"
     ]
    }
   ],
   "source": [
    "print(Datos.isnull().sum())   # After dropping the values\n",
    "     "
   ]
  },
  {
   "cell_type": "code",
   "execution_count": 96,
   "id": "10008a5f-3971-4e15-8cae-7bcf185ae3ba",
   "metadata": {},
   "outputs": [
    {
     "data": {
      "text/plain": [
       "<Axes: xlabel='Selling_Price'>"
      ]
     },
     "execution_count": 96,
     "metadata": {},
     "output_type": "execute_result"
    },
    {
     "data": {
      "image/png": "[encoded data removed]",
      "text/plain": [
       "<Figure size 640x480 with 1 Axes>"
      ]
     },
     "metadata": {},
     "output_type": "display_data"
    }
   ],
   "source": [
    "sns.boxplot(x=Datos['Selling_Price'])"
   ]
  },
  {
   "cell_type": "code",
   "execution_count": 98,
   "id": "2669245d-1bf3-4ce4-8fbd-2968cb942ad3",
   "metadata": {},
   "outputs": [
    {
     "data": {
      "text/plain": [
       "<Axes: xlabel='Year'>"
      ]
     },
     "execution_count": 98,
     "metadata": {},
     "output_type": "execute_result"
    },
    {
     "data": {
      "image/png": "[encoded data removed]",
      "text/plain": [
       "<Figure size 640x480 with 1 Axes>"
      ]
     },
     "metadata": {},
     "output_type": "display_data"
    }
   ],
   "source": [
    "sns.boxplot(x=Datos['Year'])"
   ]
  },
  {
   "cell_type": "code",
   "execution_count": 102,
   "id": "0aa312cc-c02b-4ab0-8b12-ba59c5d643a9",
   "metadata": {},
   "outputs": [
    {
     "data": {
      "text/plain": [
       "<Axes: xlabel='Kms_Driven'>"
      ]
     },
     "execution_count": 102,
     "metadata": {},
     "output_type": "execute_result"
    },
    {
     "data": {
      "image/png": "[encoded data removed]",
      "text/plain": [
       "<Figure size 640x480 with 1 Axes>"
      ]
     },
     "metadata": {},
     "output_type": "display_data"
    }
   ],
   "source": [
    "sns.boxplot(x=Datos['Kms_Driven'])"
   ]
  },
  {
   "cell_type": "code",
   "execution_count": 142,
   "id": "2883f8f7-eb99-48e2-8221-de97720a76fb",
   "metadata": {},
   "outputs": [
    {
     "ename": "TypeError",
     "evalue": "'DataFrame' object is not callable",
     "output_type": "error",
     "traceback": [
      "\u001b[1;31m---------------------------------------------------------------------------\u001b[0m",
      "\u001b[1;31mTypeError\u001b[0m                                 Traceback (most recent call last)",
      "Cell \u001b[1;32mIn[142], line 1\u001b[0m\n\u001b[1;32m----> 1\u001b[0m Q1 \u001b[38;5;241m=\u001b[39m Datos(\u001b[38;5;241m0.25\u001b[39m)\n\u001b[0;32m      2\u001b[0m Q3 \u001b[38;5;241m=\u001b[39m Datos(\u001b[38;5;241m0.75\u001b[39m)\n\u001b[0;32m      3\u001b[0m IQR \u001b[38;5;241m=\u001b[39m Q3 \u001b[38;5;241m-\u001b[39m Q1\n",
      "\u001b[1;31mTypeError\u001b[0m: 'DataFrame' object is not callable"
     ]
    }
   ],
   "source": []
  },
  {
   "cell_type": "code",
   "execution_count": 134,
   "id": "84725658-2732-430b-bc33-a5d67953e559",
   "metadata": {},
   "outputs": [
    {
     "ename": "NameError",
     "evalue": "name 'q1' is not defined",
     "output_type": "error",
     "traceback": [
      "\u001b[1;31m---------------------------------------------------------------------------\u001b[0m",
      "\u001b[1;31mNameError\u001b[0m                                 Traceback (most recent call last)",
      "Cell \u001b[1;32mIn[134], line 1\u001b[0m\n\u001b[1;32m----> 1\u001b[0m Datos \u001b[38;5;241m=\u001b[39m Datos[\u001b[38;5;241m~\u001b[39m((Datos \u001b[38;5;241m<\u001b[39m (q1 \u001b[38;5;241m-\u001b[39m \u001b[38;5;241m1.5\u001b[39m \u001b[38;5;241m*\u001b[39m IQR)) \u001b[38;5;241m|\u001b[39m(Datos \u001b[38;5;241m>\u001b[39m (Q3 \u001b[38;5;241m+\u001b[39m \u001b[38;5;241m1.5\u001b[39m \u001b[38;5;241m*\u001b[39m IQR)))\u001b[38;5;241m.\u001b[39many(axis\u001b[38;5;241m=\u001b[39m\u001b[38;5;241m1\u001b[39m)]\n\u001b[0;32m      2\u001b[0m Datos\u001b[38;5;241m.\u001b[39mshape\n",
      "\u001b[1;31mNameError\u001b[0m: name 'q1' is not defined"
     ]
    }
   ],
   "source": [
    "\n"
   ]
  },
  {
   "cell_type": "code",
   "execution_count": null,
   "id": "bf3272bc-c3eb-4eed-a7a0-6a5952b79aeb",
   "metadata": {},
   "outputs": [],
   "source": []
  }
 ],
 "metadata": {
  "kernelspec": {
   "display_name": "Python 3 (ipykernel)",
   "language": "python",
   "name": "python3"
  },
  "language_info": {
   "codemirror_mode": {
    "name": "ipython",
    "version": 3
   },
   "file_extension": ".py",
   "mimetype": "text/x-python",
   "name": "python",
   "nbconvert_exporter": "python",
   "pygments_lexer": "ipython3",
   "version": "3.12.7"
  }
 },
 "nbformat": 4,
 "nbformat_minor": 5
}
